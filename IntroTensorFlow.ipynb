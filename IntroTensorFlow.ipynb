{
  "nbformat": 4,
  "nbformat_minor": 0,
  "metadata": {
    "colab": {
      "name": "Untitled0.ipynb",
      "version": "0.3.2",
      "provenance": [],
      "collapsed_sections": [],
      "include_colab_link": true
    },
    "kernelspec": {
      "name": "python3",
      "display_name": "Python 3"
    },
    "accelerator": "GPU"
  },
  "cells": [
    {
      "cell_type": "markdown",
      "metadata": {
        "id": "view-in-github",
        "colab_type": "text"
      },
      "source": [
        "<a href=\"https://colab.research.google.com/github/lydiahsu/Intro_Data_Science_Spring_2019/blob/gh-pages/IntroTensorFlow.ipynb\" target=\"_parent\"><img src=\"https://colab.research.google.com/assets/colab-badge.svg\" alt=\"Open In Colab\"/></a>"
      ]
    },
    {
      "metadata": {
        "id": "mU7RaNQ22mDx",
        "colab_type": "text"
      },
      "cell_type": "markdown",
      "source": [
        "**Hello World TensorFlow**"
      ]
    },
    {
      "metadata": {
        "id": "lrY9tRpU2_1P",
        "colab_type": "text"
      },
      "cell_type": "markdown",
      "source": [
        "TensorFlow brief intro:\n",
        "1. open source software by Google\n",
        "2. main applications are in machine learning and deep neural networks\n",
        "3. c/c++ backend\n",
        "4. based on data flow graphs --> nodes (math operations) and edges (tensors)\n",
        "5. build --> execute "
      ]
    },
    {
      "metadata": {
        "id": "_Avi7diL2-6v",
        "colab_type": "code",
        "colab": {}
      },
      "cell_type": "code",
      "source": [
        "import tensorflow as tf"
      ],
      "execution_count": 0,
      "outputs": []
    },
    {
      "metadata": {
        "id": "2nJLxOtt1371",
        "colab_type": "code",
        "colab": {}
      },
      "cell_type": "code",
      "source": [
        "a = tf.constant([2])\n",
        "b = tf.constant([3])"
      ],
      "execution_count": 0,
      "outputs": []
    },
    {
      "metadata": {
        "id": "VTQ0eCYH2sNY",
        "colab_type": "code",
        "colab": {}
      },
      "cell_type": "code",
      "source": [
        "c = tf.add(a,b)\n",
        "c"
      ],
      "execution_count": 0,
      "outputs": []
    },
    {
      "metadata": {
        "id": "gHTaRi-26aes",
        "colab_type": "code",
        "colab": {}
      },
      "cell_type": "code",
      "source": [
        "session = tf.Session()"
      ],
      "execution_count": 0,
      "outputs": []
    },
    {
      "metadata": {
        "id": "AL1Z_RGh6jYE",
        "colab_type": "code",
        "colab": {}
      },
      "cell_type": "code",
      "source": [
        "result = session.run(c)\n",
        "print(result)"
      ],
      "execution_count": 0,
      "outputs": []
    },
    {
      "metadata": {
        "id": "guaAlTKH6xIs",
        "colab_type": "code",
        "colab": {}
      },
      "cell_type": "code",
      "source": [
        "session.close()"
      ],
      "execution_count": 0,
      "outputs": []
    },
    {
      "metadata": {
        "id": "Q75RjFdq60AU",
        "colab_type": "code",
        "colab": {}
      },
      "cell_type": "code",
      "source": [
        "# the session will be closed automatically\n",
        "with tf.Session() as session:\n",
        "  result = session.run(c)\n",
        "print(result)"
      ],
      "execution_count": 0,
      "outputs": []
    },
    {
      "metadata": {
        "id": "Fclfs7CI7Kp3",
        "colab_type": "text"
      },
      "cell_type": "markdown",
      "source": [
        "What are tensors? \n",
        "\n",
        "In short, it is a multidimensional array"
      ]
    },
    {
      "metadata": {
        "id": "Ry4SmpT27VVx",
        "colab_type": "code",
        "colab": {}
      },
      "cell_type": "code",
      "source": [
        "scalar = tf.constant([1])\n",
        "vector = tf.constant([1,2,3])\n",
        "matrix = tf.constant([1,2,3],[4,5,6])\n",
        "tensor = tf.constant([[1,2,3],[4,5,6]],[[11,12,13],[14,15,16]],[[21,22,23],[24,25,26]])"
      ],
      "execution_count": 0,
      "outputs": []
    },
    {
      "metadata": {
        "id": "4ynwMnY_8DAf",
        "colab_type": "text"
      },
      "cell_type": "markdown",
      "source": [
        "Practice: create two 4X4 matrices and perform (1) element-wise multiplication, (2) matrix multiplication"
      ]
    },
    {
      "metadata": {
        "id": "bTiolNXz8T0g",
        "colab_type": "code",
        "colab": {}
      },
      "cell_type": "code",
      "source": [
        "MatA = \n",
        "MatB = "
      ],
      "execution_count": 0,
      "outputs": []
    },
    {
      "metadata": {
        "id": "-xpJdm1Y9SVs",
        "colab_type": "text"
      },
      "cell_type": "markdown",
      "source": [
        "Tensorflow variables:\n",
        "\n",
        "1. All variables should be initialized.\n",
        "2. These are the values that can be changed after the graph is built. "
      ]
    },
    {
      "metadata": {
        "id": "vnZ2b-WV9sG3",
        "colab_type": "code",
        "colab": {}
      },
      "cell_type": "code",
      "source": [
        "state = tf.Variable(0)\n",
        "\n",
        "one = tf.constant(1)\n",
        "new_value = tf.add(state,one)\n",
        "update = tf.assign(state,new_value)"
      ],
      "execution_count": 0,
      "outputs": []
    },
    {
      "metadata": {
        "id": "T4doxdC2-Hop",
        "colab_type": "code",
        "colab": {}
      },
      "cell_type": "code",
      "source": [
        "init = tf.initialize_all_variables()"
      ],
      "execution_count": 0,
      "outputs": []
    },
    {
      "metadata": {
        "id": "20M8gHcL-PYZ",
        "colab_type": "code",
        "colab": {}
      },
      "cell_type": "code",
      "source": [
        "with tf.Session() as session:\n",
        "  session.run(init)\n",
        "  print(session.run(state))\n",
        "  for _ in range(3):\n",
        "    session.run(update)\n",
        "    print(session.run(state))"
      ],
      "execution_count": 0,
      "outputs": []
    },
    {
      "metadata": {
        "id": "IiQlG8D6_KTN",
        "colab_type": "text"
      },
      "cell_type": "markdown",
      "source": [
        "Tensorflow placeholders:\n",
        "\n",
        "1. These variable values will be fed in later.\n",
        "2. Initialization needs to specify the data type."
      ]
    },
    {
      "metadata": {
        "id": "USGQBE2c_EiF",
        "colab_type": "code",
        "colab": {}
      },
      "cell_type": "code",
      "source": [
        "a = tf.placeholder(tf.float32)\n",
        "b = a*2"
      ],
      "execution_count": 0,
      "outputs": []
    },
    {
      "metadata": {
        "id": "L9H0Fo-5_JXO",
        "colab_type": "code",
        "colab": {}
      },
      "cell_type": "code",
      "source": [
        "with tf.Session() as session:\n",
        "  result = session.run(b,feed_dict={a:5})\n",
        "  print(result)"
      ],
      "execution_count": 0,
      "outputs": []
    },
    {
      "metadata": {
        "id": "sFejElPUCQ8P",
        "colab_type": "text"
      },
      "cell_type": "markdown",
      "source": [
        "Linear regression example"
      ]
    },
    {
      "metadata": {
        "id": "tIgprTw8CQcX",
        "colab_type": "code",
        "colab": {}
      },
      "cell_type": "code",
      "source": [
        "import numpy as np\n",
        "x_data = np.random.rand(100).astype(np.float32)\n",
        "y_data = x_data*3 + 2\n",
        "y_data = np.vectorize(lambda y:y+np.random.normal(0,1))(y_data)"
      ],
      "execution_count": 0,
      "outputs": []
    },
    {
      "metadata": {
        "id": "47hUNNCSDG9B",
        "colab_type": "code",
        "colab": {}
      },
      "cell_type": "code",
      "source": [
        "zip(x_data,y_data)"
      ],
      "execution_count": 0,
      "outputs": []
    },
    {
      "metadata": {
        "id": "VTP7CDVPDYCE",
        "colab_type": "code",
        "colab": {}
      },
      "cell_type": "code",
      "source": [
        "a = tf.Variable(1.0)\n",
        "b = tf.Variable(0.5)\n",
        "y = a*x_data + b"
      ],
      "execution_count": 0,
      "outputs": []
    },
    {
      "metadata": {
        "id": "bSQNVgh6Djkr",
        "colab_type": "code",
        "colab": {}
      },
      "cell_type": "code",
      "source": [
        "loss = tf.reduce_mean(tf.square(y-y_data))"
      ],
      "execution_count": 0,
      "outputs": []
    },
    {
      "metadata": {
        "id": "mWVHM0FgDsxl",
        "colab_type": "code",
        "colab": {}
      },
      "cell_type": "code",
      "source": [
        "optimizer = tf.train.GradientDescentOptimizer(0.5)\n",
        "train = optimizer.minimize(loss)"
      ],
      "execution_count": 0,
      "outputs": []
    },
    {
      "metadata": {
        "id": "X-AdZm3rD8l5",
        "colab_type": "code",
        "colab": {}
      },
      "cell_type": "code",
      "source": [
        "init = tf.initialize_all_variables()\n",
        "sess = tf.Session()\n",
        "sess.run(init)"
      ],
      "execution_count": 0,
      "outputs": []
    },
    {
      "metadata": {
        "id": "DXoKMzehEHkn",
        "colab_type": "code",
        "colab": {}
      },
      "cell_type": "code",
      "source": [
        "train_data = []\n",
        "\n",
        "for steps in range(1000):\n",
        "  evals = sess.run([train,a,b])[1:]"
      ],
      "execution_count": 0,
      "outputs": []
    },
    {
      "metadata": {
        "id": "csKCJExDEhKV",
        "colab_type": "code",
        "colab": {}
      },
      "cell_type": "code",
      "source": [
        "evals"
      ],
      "execution_count": 0,
      "outputs": []
    }
  ]
}